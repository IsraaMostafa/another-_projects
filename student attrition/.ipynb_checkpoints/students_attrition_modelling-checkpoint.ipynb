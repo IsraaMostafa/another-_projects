{
 "cells": [
  {
   "cell_type": "markdown",
   "metadata": {
    "id": "ZZH8lrde6B66"
   },
   "source": [
    "#                    Early prediction of college attrition using Data Mining"
   ]
  },
  {
   "cell_type": "markdown",
   "metadata": {
    "id": "bxNq-vCE6B7F"
   },
   "source": [
    "## Import the libraries used "
   ]
  },
  {
   "cell_type": "code",
   "execution_count": null,
   "metadata": {
    "id": "pBKRsi2_6B7G"
   },
   "outputs": [],
   "source": [
    "import pandas as pd\n",
    "import numpy as np\n",
    "import matplotlib.pyplot as plt"
   ]
  },
  {
   "cell_type": "markdown",
   "metadata": {
    "id": "Hu0EpjVO6B7H"
   },
   "source": [
    "## Read the dataset using pandas library"
   ]
  },
  {
   "cell_type": "code",
   "execution_count": null,
   "metadata": {
    "id": "6klHTwTN6B7I"
   },
   "outputs": [],
   "source": [
    "data=pd.read_excel(\"Student.xlsx\")"
   ]
  },
  {
   "cell_type": "markdown",
   "metadata": {
    "id": "cY5QD8dK6B7I"
   },
   "source": [
    "## Print the first five rows from the dataset"
   ]
  },
  {
   "cell_type": "code",
   "execution_count": null,
   "metadata": {
    "colab": {
     "base_uri": "https://localhost:8080/",
     "height": 241
    },
    "id": "gs8uevR76B7J",
    "outputId": "4a3e6412-826c-4747-e9ff-11ac5eeb3b08"
   },
   "outputs": [
    {
     "data": {
      "text/html": [
       "<div>\n",
       "<style scoped>\n",
       "    .dataframe tbody tr th:only-of-type {\n",
       "        vertical-align: middle;\n",
       "    }\n",
       "\n",
       "    .dataframe tbody tr th {\n",
       "        vertical-align: top;\n",
       "    }\n",
       "\n",
       "    .dataframe thead th {\n",
       "        text-align: right;\n",
       "    }\n",
       "</style>\n",
       "<table border=\"1\" class=\"dataframe\">\n",
       "  <thead>\n",
       "    <tr style=\"text-align: right;\">\n",
       "      <th></th>\n",
       "      <th>STUDENT IDENTIFIER</th>\n",
       "      <th>STDNT_AGE</th>\n",
       "      <th>STDNT_GENDER</th>\n",
       "      <th>STDNT_BACKGROUND</th>\n",
       "      <th>IN_STATE_FLAG</th>\n",
       "      <th>INTERNATIONAL_STS</th>\n",
       "      <th>STDNT_MAJOR</th>\n",
       "      <th>STDNT_MINOR</th>\n",
       "      <th>STDNT_TEST_ENTRANCE1</th>\n",
       "      <th>STDNT_TEST_ENTRANCE2</th>\n",
       "      <th>STDNT_TEST_ENTRANCE_COMB</th>\n",
       "      <th>FIRST_TERM</th>\n",
       "      <th>CORE_COURSE_NAME_1_F</th>\n",
       "      <th>CORE_COURSE_GRADE_1_F</th>\n",
       "      <th>CORE_COURSE_NAME_2_F</th>\n",
       "      <th>CORE_COURSE_GRADE_2_F</th>\n",
       "      <th>CORE_COURSE_NAME_3_F</th>\n",
       "      <th>CORE_COURSE_GRADE_3_F</th>\n",
       "      <th>CORE_COURSE_NAME_4_F</th>\n",
       "      <th>CORE_COURSE_GRADE_4_F</th>\n",
       "      <th>CORE_COURSE_NAME_5_F</th>\n",
       "      <th>CORE_COURSE_GRADE_5_F</th>\n",
       "      <th>CORE_COURSE_NAME_6_F</th>\n",
       "      <th>CORE_COURSE_GRADE_6_F</th>\n",
       "      <th>SECOND_TERM</th>\n",
       "      <th>CORE_COURSE_NAME_1_S</th>\n",
       "      <th>CORE_COURSE_GRADE_1_S</th>\n",
       "      <th>CORE_COURSE_NAME_2_S</th>\n",
       "      <th>CORE_COURSE_GRADE_2_S</th>\n",
       "      <th>CORE_COURSE_NAME_3_S</th>\n",
       "      <th>CORE_COURSE_GRADE_3_S</th>\n",
       "      <th>CORE_COURSE_NAME_4_S</th>\n",
       "      <th>CORE_COURSE_GRADE_4_S</th>\n",
       "      <th>CORE_COURSE_NAME_5_S</th>\n",
       "      <th>CORE_COURSE_GRADE_5_S</th>\n",
       "      <th>CORE_COURSE_NAME_6_S</th>\n",
       "      <th>CORE_COURSE_GRADE_6_S</th>\n",
       "      <th>HOUSING_STS</th>\n",
       "      <th>RETURNED_2ND_YR</th>\n",
       "      <th>DISTANCE_FROM_HOME</th>\n",
       "      <th>HIGH_SCHL_GPA</th>\n",
       "      <th>HIGH_SCHL_NAME</th>\n",
       "      <th>FATHER_HI_EDU_CD</th>\n",
       "      <th>FATHER_HI_EDU_DESC</th>\n",
       "      <th>MOTHER_HI_EDU_CD</th>\n",
       "      <th>MOTHER_HI_EDU_DESC</th>\n",
       "      <th>DEGREE_GROUP_CD</th>\n",
       "      <th>DEGREE_GROUP_DESC</th>\n",
       "      <th>FIRST_TERM_ATTEMPT_HRS</th>\n",
       "      <th>FIRST_TERM_EARNED_HRS</th>\n",
       "      <th>SECOND_TERM_ATTEMPT_HRS</th>\n",
       "      <th>SECOND_TERM_EARNED_HRS</th>\n",
       "      <th>GROSS_FIN_NEED</th>\n",
       "      <th>COST_OF_ATTEND</th>\n",
       "      <th>EST_FAM_CONTRIBUTION</th>\n",
       "      <th>UNMET_NEED</th>\n",
       "    </tr>\n",
       "  </thead>\n",
       "  <tbody>\n",
       "    <tr>\n",
       "      <th>0</th>\n",
       "      <td>7808615</td>\n",
       "      <td>18</td>\n",
       "      <td>F</td>\n",
       "      <td>BGD 1</td>\n",
       "      <td>Y</td>\n",
       "      <td>N</td>\n",
       "      <td>Undeclared</td>\n",
       "      <td>N</td>\n",
       "      <td>NaN</td>\n",
       "      <td>1150.0</td>\n",
       "      <td>1150.0</td>\n",
       "      <td>200708</td>\n",
       "      <td>ANTH 1105</td>\n",
       "      <td>A</td>\n",
       "      <td>ARTH 1100</td>\n",
       "      <td>A</td>\n",
       "      <td>ENGL 1102</td>\n",
       "      <td>A</td>\n",
       "      <td>PSYC 1101</td>\n",
       "      <td>A</td>\n",
       "      <td>NaN</td>\n",
       "      <td>NaN</td>\n",
       "      <td>NaN</td>\n",
       "      <td>NaN</td>\n",
       "      <td>200802</td>\n",
       "      <td>CHEM 1151</td>\n",
       "      <td>A</td>\n",
       "      <td>CHEM 1151L</td>\n",
       "      <td>A</td>\n",
       "      <td>COMM 1110</td>\n",
       "      <td>A</td>\n",
       "      <td>ITDS 2749</td>\n",
       "      <td>A</td>\n",
       "      <td>NaN</td>\n",
       "      <td>NaN</td>\n",
       "      <td>NaN</td>\n",
       "      <td>NaN</td>\n",
       "      <td>On Campus</td>\n",
       "      <td>0</td>\n",
       "      <td>150.0</td>\n",
       "      <td>4.00</td>\n",
       "      <td>SCHOOL 50</td>\n",
       "      <td>NaN</td>\n",
       "      <td>No Information</td>\n",
       "      <td>NaN</td>\n",
       "      <td>No Information</td>\n",
       "      <td>B</td>\n",
       "      <td>Bachelors</td>\n",
       "      <td>16</td>\n",
       "      <td>16</td>\n",
       "      <td>14.0</td>\n",
       "      <td>14.0</td>\n",
       "      <td>0</td>\n",
       "      <td>0</td>\n",
       "      <td>0</td>\n",
       "      <td>0.0</td>\n",
       "    </tr>\n",
       "    <tr>\n",
       "      <th>1</th>\n",
       "      <td>7830063</td>\n",
       "      <td>19</td>\n",
       "      <td>F</td>\n",
       "      <td>BGD 1</td>\n",
       "      <td>N</td>\n",
       "      <td>N</td>\n",
       "      <td>Undeclared</td>\n",
       "      <td>N</td>\n",
       "      <td>26.0</td>\n",
       "      <td>NaN</td>\n",
       "      <td>1190.0</td>\n",
       "      <td>200808</td>\n",
       "      <td>ANTH 1105</td>\n",
       "      <td>A</td>\n",
       "      <td>GERM 1002</td>\n",
       "      <td>A</td>\n",
       "      <td>ITDS 2735</td>\n",
       "      <td>A</td>\n",
       "      <td>MATH 1125</td>\n",
       "      <td>A</td>\n",
       "      <td>THEA 1100</td>\n",
       "      <td>A</td>\n",
       "      <td>POLS 1101</td>\n",
       "      <td>A</td>\n",
       "      <td>200902</td>\n",
       "      <td>ECON 2105</td>\n",
       "      <td>A</td>\n",
       "      <td>ENGL 1102</td>\n",
       "      <td>A</td>\n",
       "      <td>NaN</td>\n",
       "      <td>NaN</td>\n",
       "      <td>NaN</td>\n",
       "      <td>NaN</td>\n",
       "      <td>NaN</td>\n",
       "      <td>NaN</td>\n",
       "      <td>NaN</td>\n",
       "      <td>NaN</td>\n",
       "      <td>Off Campus</td>\n",
       "      <td>1</td>\n",
       "      <td>69.0</td>\n",
       "      <td>2.89</td>\n",
       "      <td>SCHOOL 389</td>\n",
       "      <td>3.0</td>\n",
       "      <td>College/Beyond</td>\n",
       "      <td>3.0</td>\n",
       "      <td>College/Beyond</td>\n",
       "      <td>B</td>\n",
       "      <td>Bachelors</td>\n",
       "      <td>18</td>\n",
       "      <td>18</td>\n",
       "      <td>18.0</td>\n",
       "      <td>18.0</td>\n",
       "      <td>570000</td>\n",
       "      <td>1355760</td>\n",
       "      <td>785760</td>\n",
       "      <td>459300.0</td>\n",
       "    </tr>\n",
       "    <tr>\n",
       "      <th>2</th>\n",
       "      <td>7847538</td>\n",
       "      <td>18</td>\n",
       "      <td>M</td>\n",
       "      <td>BGD 1</td>\n",
       "      <td>Y</td>\n",
       "      <td>N</td>\n",
       "      <td>Mathematics</td>\n",
       "      <td>N</td>\n",
       "      <td>NaN</td>\n",
       "      <td>1020.0</td>\n",
       "      <td>1030.0</td>\n",
       "      <td>201008</td>\n",
       "      <td>ANTH 1105</td>\n",
       "      <td>A</td>\n",
       "      <td>ENGL 1101</td>\n",
       "      <td>A</td>\n",
       "      <td>HIST 2111</td>\n",
       "      <td>A</td>\n",
       "      <td>MATH 1111</td>\n",
       "      <td>A</td>\n",
       "      <td>SOCI 1101</td>\n",
       "      <td>A</td>\n",
       "      <td>NaN</td>\n",
       "      <td>NaN</td>\n",
       "      <td>201102</td>\n",
       "      <td>ENGL 1102</td>\n",
       "      <td>A</td>\n",
       "      <td>ENVS 1105</td>\n",
       "      <td>A</td>\n",
       "      <td>MUSC 1100</td>\n",
       "      <td>A</td>\n",
       "      <td>NaN</td>\n",
       "      <td>NaN</td>\n",
       "      <td>NaN</td>\n",
       "      <td>NaN</td>\n",
       "      <td>NaN</td>\n",
       "      <td>NaN</td>\n",
       "      <td>On Campus</td>\n",
       "      <td>1</td>\n",
       "      <td>150.0</td>\n",
       "      <td>3.39</td>\n",
       "      <td>SCHOOL 82</td>\n",
       "      <td>2.0</td>\n",
       "      <td>High School</td>\n",
       "      <td>4.0</td>\n",
       "      <td>Other/Unknown</td>\n",
       "      <td>B</td>\n",
       "      <td>Bachelors</td>\n",
       "      <td>15</td>\n",
       "      <td>15</td>\n",
       "      <td>14.0</td>\n",
       "      <td>14.0</td>\n",
       "      <td>0</td>\n",
       "      <td>0</td>\n",
       "      <td>0</td>\n",
       "      <td>0.0</td>\n",
       "    </tr>\n",
       "    <tr>\n",
       "      <th>3</th>\n",
       "      <td>8006429</td>\n",
       "      <td>18</td>\n",
       "      <td>M</td>\n",
       "      <td>BGD 1</td>\n",
       "      <td>Y</td>\n",
       "      <td>N</td>\n",
       "      <td>Undeclared</td>\n",
       "      <td>N</td>\n",
       "      <td>NaN</td>\n",
       "      <td>1210.0</td>\n",
       "      <td>1220.0</td>\n",
       "      <td>200708</td>\n",
       "      <td>ANTH 1107</td>\n",
       "      <td>A</td>\n",
       "      <td>COMM 1110</td>\n",
       "      <td>A</td>\n",
       "      <td>NaN</td>\n",
       "      <td>NaN</td>\n",
       "      <td>NaN</td>\n",
       "      <td>NaN</td>\n",
       "      <td>NaN</td>\n",
       "      <td>NaN</td>\n",
       "      <td>NaN</td>\n",
       "      <td>NaN</td>\n",
       "      <td>200802</td>\n",
       "      <td>ENGL 1102</td>\n",
       "      <td>A</td>\n",
       "      <td>HIST 2112</td>\n",
       "      <td>A</td>\n",
       "      <td>LEAD 1705</td>\n",
       "      <td>A</td>\n",
       "      <td>MUSC 1100</td>\n",
       "      <td>A</td>\n",
       "      <td>NaN</td>\n",
       "      <td>NaN</td>\n",
       "      <td>NaN</td>\n",
       "      <td>NaN</td>\n",
       "      <td>On Campus</td>\n",
       "      <td>1</td>\n",
       "      <td>150.0</td>\n",
       "      <td>2.93</td>\n",
       "      <td>SCHOOL 180</td>\n",
       "      <td>3.0</td>\n",
       "      <td>College/Beyond</td>\n",
       "      <td>3.0</td>\n",
       "      <td>College/Beyond</td>\n",
       "      <td>B</td>\n",
       "      <td>Bachelors</td>\n",
       "      <td>13</td>\n",
       "      <td>13</td>\n",
       "      <td>14.0</td>\n",
       "      <td>14.0</td>\n",
       "      <td>0</td>\n",
       "      <td>0</td>\n",
       "      <td>0</td>\n",
       "      <td>0.0</td>\n",
       "    </tr>\n",
       "    <tr>\n",
       "      <th>4</th>\n",
       "      <td>7962680</td>\n",
       "      <td>18</td>\n",
       "      <td>F</td>\n",
       "      <td>BGD 1</td>\n",
       "      <td>Y</td>\n",
       "      <td>N</td>\n",
       "      <td>Art</td>\n",
       "      <td>N</td>\n",
       "      <td>NaN</td>\n",
       "      <td>1200.0</td>\n",
       "      <td>1190.0</td>\n",
       "      <td>200808</td>\n",
       "      <td>ANTH 1107</td>\n",
       "      <td>A</td>\n",
       "      <td>ARTH 1100</td>\n",
       "      <td>A</td>\n",
       "      <td>CPSC 1105</td>\n",
       "      <td>A</td>\n",
       "      <td>MATH 1111</td>\n",
       "      <td>A</td>\n",
       "      <td>NaN</td>\n",
       "      <td>NaN</td>\n",
       "      <td>NaN</td>\n",
       "      <td>NaN</td>\n",
       "      <td>200902</td>\n",
       "      <td>COMM 1110</td>\n",
       "      <td>A</td>\n",
       "      <td>ENGL 1101</td>\n",
       "      <td>A</td>\n",
       "      <td>HIST 2111</td>\n",
       "      <td>A</td>\n",
       "      <td>PSYC 1101</td>\n",
       "      <td>A</td>\n",
       "      <td>NaN</td>\n",
       "      <td>NaN</td>\n",
       "      <td>NaN</td>\n",
       "      <td>NaN</td>\n",
       "      <td>Off Campus</td>\n",
       "      <td>1</td>\n",
       "      <td>69.0</td>\n",
       "      <td>3.86</td>\n",
       "      <td>SCHOOL 2</td>\n",
       "      <td>3.0</td>\n",
       "      <td>College/Beyond</td>\n",
       "      <td>2.0</td>\n",
       "      <td>High School</td>\n",
       "      <td>B</td>\n",
       "      <td>Bachelors</td>\n",
       "      <td>12</td>\n",
       "      <td>12</td>\n",
       "      <td>12.0</td>\n",
       "      <td>12.0</td>\n",
       "      <td>835920</td>\n",
       "      <td>1355760</td>\n",
       "      <td>519840</td>\n",
       "      <td>278340.0</td>\n",
       "    </tr>\n",
       "  </tbody>\n",
       "</table>\n",
       "</div>"
      ],
      "text/plain": [
       "   STUDENT IDENTIFIER  STDNT_AGE  ... EST_FAM_CONTRIBUTION UNMET_NEED\n",
       "0             7808615         18  ...                    0        0.0\n",
       "1             7830063         19  ...               785760   459300.0\n",
       "2             7847538         18  ...                    0        0.0\n",
       "3             8006429         18  ...                    0        0.0\n",
       "4             7962680         18  ...               519840   278340.0\n",
       "\n",
       "[5 rows x 56 columns]"
      ]
     },
     "execution_count": 3,
     "metadata": {
      "tags": []
     },
     "output_type": "execute_result"
    }
   ],
   "source": [
    "data.head()"
   ]
  },
  {
   "cell_type": "markdown",
   "metadata": {
    "id": "zf9fDQXQ6B7L"
   },
   "source": [
    "## Calculate the number of null values in every features in the dataset"
   ]
  },
  {
   "cell_type": "code",
   "execution_count": null,
   "metadata": {
    "id": "q37onAUt6B7L",
    "outputId": "1d8152c5-b78c-43a5-e16e-2c977134001c"
   },
   "outputs": [
    {
     "data": {
      "text/plain": [
       "STUDENT IDENTIFIER             0\n",
       "STDNT_AGE                      0\n",
       "STDNT_GENDER                   0\n",
       "STDNT_BACKGROUND               0\n",
       "IN_STATE_FLAG                  0\n",
       "INTERNATIONAL_STS              0\n",
       "STDNT_MAJOR                    0\n",
       "STDNT_MINOR                    0\n",
       "STDNT_TEST_ENTRANCE1        2294\n",
       "STDNT_TEST_ENTRANCE2         908\n",
       "STDNT_TEST_ENTRANCE_COMB     518\n",
       "FIRST_TERM                     0\n",
       "CORE_COURSE_NAME_1_F           0\n",
       "CORE_COURSE_GRADE_1_F          0\n",
       "CORE_COURSE_NAME_2_F          99\n",
       "CORE_COURSE_GRADE_2_F         99\n",
       "CORE_COURSE_NAME_3_F         565\n",
       "CORE_COURSE_GRADE_3_F        565\n",
       "CORE_COURSE_NAME_4_F        1597\n",
       "CORE_COURSE_GRADE_4_F       1597\n",
       "CORE_COURSE_NAME_5_F        2755\n",
       "CORE_COURSE_GRADE_5_F       2755\n",
       "CORE_COURSE_NAME_6_F        3272\n",
       "CORE_COURSE_GRADE_6_F       3272\n",
       "SECOND_TERM                    0\n",
       "CORE_COURSE_NAME_1_S         157\n",
       "CORE_COURSE_GRADE_1_S        232\n",
       "CORE_COURSE_NAME_2_S         439\n",
       "CORE_COURSE_GRADE_2_S        439\n",
       "CORE_COURSE_NAME_3_S        1038\n",
       "CORE_COURSE_GRADE_3_S       1038\n",
       "CORE_COURSE_NAME_4_S        2045\n",
       "CORE_COURSE_GRADE_4_S       2045\n",
       "CORE_COURSE_NAME_5_S        2950\n",
       "CORE_COURSE_GRADE_5_S       2950\n",
       "CORE_COURSE_NAME_6_S        3319\n",
       "CORE_COURSE_GRADE_6_S       3319\n",
       "HOUSING_STS                    0\n",
       "RETURNED_2ND_YR                0\n",
       "DISTANCE_FROM_HOME            25\n",
       "HIGH_SCHL_GPA                 53\n",
       "HIGH_SCHL_NAME                 1\n",
       "FATHER_HI_EDU_CD             432\n",
       "FATHER_HI_EDU_DESC             0\n",
       "MOTHER_HI_EDU_CD             489\n",
       "MOTHER_HI_EDU_DESC             0\n",
       "DEGREE_GROUP_CD                0\n",
       "DEGREE_GROUP_DESC              0\n",
       "FIRST_TERM_ATTEMPT_HRS         0\n",
       "FIRST_TERM_EARNED_HRS          0\n",
       "SECOND_TERM_ATTEMPT_HRS      206\n",
       "SECOND_TERM_EARNED_HRS       209\n",
       "GROSS_FIN_NEED                 0\n",
       "COST_OF_ATTEND                 0\n",
       "EST_FAM_CONTRIBUTION           0\n",
       "UNMET_NEED                     0\n",
       "dtype: int64"
      ]
     },
     "execution_count": 4,
     "metadata": {
      "tags": []
     },
     "output_type": "execute_result"
    }
   ],
   "source": [
    "data.isna().sum()"
   ]
  },
  {
   "cell_type": "markdown",
   "metadata": {
    "id": "fIOLU0GN6B7M"
   },
   "source": [
    "## Print the features names in the dataset"
   ]
  },
  {
   "cell_type": "code",
   "execution_count": null,
   "metadata": {
    "id": "ZtdzqkZg6B7M",
    "outputId": "791ee7b0-a882-41e3-9bfb-c77c92fb2471"
   },
   "outputs": [
    {
     "data": {
      "text/plain": [
       "Index(['STUDENT IDENTIFIER', 'STDNT_AGE', 'STDNT_GENDER', 'STDNT_BACKGROUND',\n",
       "       'IN_STATE_FLAG', 'INTERNATIONAL_STS', 'STDNT_MAJOR', 'STDNT_MINOR',\n",
       "       'STDNT_TEST_ENTRANCE1', 'STDNT_TEST_ENTRANCE2',\n",
       "       'STDNT_TEST_ENTRANCE_COMB', 'FIRST_TERM', 'CORE_COURSE_NAME_1_F',\n",
       "       'CORE_COURSE_GRADE_1_F', 'CORE_COURSE_NAME_2_F',\n",
       "       'CORE_COURSE_GRADE_2_F', 'CORE_COURSE_NAME_3_F',\n",
       "       'CORE_COURSE_GRADE_3_F', 'CORE_COURSE_NAME_4_F',\n",
       "       'CORE_COURSE_GRADE_4_F', 'CORE_COURSE_NAME_5_F',\n",
       "       'CORE_COURSE_GRADE_5_F', 'CORE_COURSE_NAME_6_F',\n",
       "       'CORE_COURSE_GRADE_6_F', 'SECOND_TERM', 'CORE_COURSE_NAME_1_S',\n",
       "       'CORE_COURSE_GRADE_1_S', 'CORE_COURSE_NAME_2_S',\n",
       "       'CORE_COURSE_GRADE_2_S', 'CORE_COURSE_NAME_3_S',\n",
       "       'CORE_COURSE_GRADE_3_S', 'CORE_COURSE_NAME_4_S',\n",
       "       'CORE_COURSE_GRADE_4_S', 'CORE_COURSE_NAME_5_S',\n",
       "       'CORE_COURSE_GRADE_5_S', 'CORE_COURSE_NAME_6_S',\n",
       "       'CORE_COURSE_GRADE_6_S', 'HOUSING_STS', 'RETURNED_2ND_YR',\n",
       "       'DISTANCE_FROM_HOME', 'HIGH_SCHL_GPA', 'HIGH_SCHL_NAME',\n",
       "       'FATHER_HI_EDU_CD', 'FATHER_HI_EDU_DESC', 'MOTHER_HI_EDU_CD',\n",
       "       'MOTHER_HI_EDU_DESC', 'DEGREE_GROUP_CD', 'DEGREE_GROUP_DESC',\n",
       "       'FIRST_TERM_ATTEMPT_HRS', 'FIRST_TERM_EARNED_HRS',\n",
       "       'SECOND_TERM_ATTEMPT_HRS', 'SECOND_TERM_EARNED_HRS', 'GROSS_FIN_NEED',\n",
       "       'COST_OF_ATTEND', 'EST_FAM_CONTRIBUTION', 'UNMET_NEED'],\n",
       "      dtype='object')"
      ]
     },
     "execution_count": 5,
     "metadata": {
      "tags": []
     },
     "output_type": "execute_result"
    }
   ],
   "source": [
    "data.columns"
   ]
  },
  {
   "cell_type": "markdown",
   "metadata": {
    "id": "N6UJyCHj6B7N"
   },
   "source": [
    "## Replace the year with month into only year because the month is repeated in all dataset"
   ]
  },
  {
   "cell_type": "code",
   "execution_count": null,
   "metadata": {
    "id": "mrqYoYQ76B7N"
   },
   "outputs": [],
   "source": [
    "data['FIRST_TERM']=data['FIRST_TERM'].replace({200508:2005, 200608:2006, 200708:2007, 200808:2008, 200908:2009, 201008:2010})"
   ]
  },
  {
   "cell_type": "code",
   "execution_count": null,
   "metadata": {
    "id": "kyK31B-y6B7O"
   },
   "outputs": [],
   "source": [
    "data['SECOND_TERM']=data['SECOND_TERM'].replace({200602:2006, 200702:2007, 200802:2008, 200902:2009, 201002:2010, 201102:2011})"
   ]
  },
  {
   "cell_type": "markdown",
   "metadata": {
    "id": "5nn0RYmu6B7O"
   },
   "source": [
    "## Calculate the number of student that returned in the second year and the other that are not returned "
   ]
  },
  {
   "cell_type": "code",
   "execution_count": null,
   "metadata": {
    "colab": {
     "base_uri": "https://localhost:8080/"
    },
    "id": "EYoAY4-q6B7P",
    "outputId": "497274e5-6619-49e9-da92-097ee6d014d3",
    "scrolled": true
   },
   "outputs": [
    {
     "data": {
      "text/plain": [
       "1    2677\n",
       "0     723\n",
       "Name: RETURNED_2ND_YR, dtype: int64"
      ]
     },
     "execution_count": 6,
     "metadata": {
      "tags": []
     },
     "output_type": "execute_result"
    }
   ],
   "source": [
    "data['RETURNED_2ND_YR'].value_counts()"
   ]
  },
  {
   "cell_type": "markdown",
   "metadata": {
    "id": "g_zVbe4h6B7P"
   },
   "source": [
    "## Fill the empty values of FATHER_HI_EDU_CD and MOTHER_HI_EDU_CD with zeros because they are not availabe"
   ]
  },
  {
   "cell_type": "code",
   "execution_count": null,
   "metadata": {
    "id": "TuJbwTPX6B7Q"
   },
   "outputs": [],
   "source": [
    "#Replacing all of them with a new value 0.0 as they dont provide any info\n",
    "data['FATHER_HI_EDU_CD']=data['FATHER_HI_EDU_CD'].fillna(0.0)\n",
    "data['MOTHER_HI_EDU_CD']=data['MOTHER_HI_EDU_CD'].fillna(0.0)"
   ]
  },
  {
   "cell_type": "markdown",
   "metadata": {
    "id": "je0RZHFe6B7u"
   },
   "source": [
    "## We can represnt the first term hours by dividing the two features (FIRST_TERM_EARNED_HRS , FIRST_TERM_ATTEMPT_HRS)"
   ]
  },
  {
   "cell_type": "code",
   "execution_count": null,
   "metadata": {
    "id": "zGZlhoTg6B7v"
   },
   "outputs": [],
   "source": [
    "data['FIRST_TERM_Hr']=data['FIRST_TERM_EARNED_HRS']/data['FIRST_TERM_ATTEMPT_HRS']\n",
    "data['SECOND_TERM_Hr']=data['SECOND_TERM_EARNED_HRS']/data['SECOND_TERM_ATTEMPT_HRS']"
   ]
  },
  {
   "cell_type": "markdown",
   "metadata": {
    "id": "hcvr7V-56B7v"
   },
   "source": [
    "# from the next features we can take only the characters from the feature value So we apply slicinf \n",
    "##  Example  ECON 2105   ==> ECON\n"
   ]
  },
  {
   "cell_type": "code",
   "execution_count": null,
   "metadata": {
    "id": "MeuepftH6B7w"
   },
   "outputs": [],
   "source": [
    "data['CORE_COURSE_NAME_1_F']=data['CORE_COURSE_NAME_1_F'].str.slice(0,4)\n",
    "data['CORE_COURSE_NAME_2_F']=data['CORE_COURSE_NAME_2_F'].str.slice(0,4)\n",
    "data['CORE_COURSE_NAME_3_F']=data['CORE_COURSE_NAME_3_F'].str.slice(0,4)\n",
    "\n",
    "data['CORE_COURSE_NAME_1_S']=data['CORE_COURSE_NAME_1_S'].str.slice(0,4)\n",
    "data['CORE_COURSE_NAME_2_S']=data['CORE_COURSE_NAME_2_S'].str.slice(0,4)\n",
    "data['CORE_COURSE_NAME_3_S']=data['CORE_COURSE_NAME_3_S'].str.slice(0,4)"
   ]
  },
  {
   "cell_type": "markdown",
   "metadata": {
    "id": "BkLcC6Ot6B7w"
   },
   "source": [
    "## We can drop te next features from the dataset as it's not valuable to the modeling \n",
    "### X contains the training data "
   ]
  },
  {
   "cell_type": "code",
   "execution_count": null,
   "metadata": {
    "id": "-UN2WLAO6B7w"
   },
   "outputs": [],
   "source": [
    "X=data.drop(['STUDENT IDENTIFIER','CORE_COURSE_NAME_4_F','CORE_COURSE_GRADE_4_F',\n",
    "             'CORE_COURSE_NAME_5_F','CORE_COURSE_GRADE_5_F','CORE_COURSE_NAME_6_F','CORE_COURSE_GRADE_6_F',\n",
    "             'CORE_COURSE_NAME_4_S','CORE_COURSE_GRADE_4_S','CORE_COURSE_GRADE_5_S','CORE_COURSE_NAME_5_S',\n",
    "             'CORE_COURSE_GRADE_6_S','CORE_COURSE_NAME_6_S','RETURNED_2ND_YR','FIRST_TERM_ATTEMPT_HRS',\n",
    "             'FIRST_TERM_EARNED_HRS','SECOND_TERM_ATTEMPT_HRS','SECOND_TERM_EARNED_HRS','FATHER_HI_EDU_CD',\n",
    "             'MOTHER_HI_EDU_CD','DEGREE_GROUP_CD','CORE_COURSE_NAME_3_F',\n",
    "             'CORE_COURSE_GRADE_3_F','CORE_COURSE_NAME_3_S',\n",
    "             'CORE_COURSE_GRADE_3_S','CORE_COURSE_NAME_4_F',\n",
    "             'CORE_COURSE_GRADE_4_F','CORE_COURSE_NAME_4_S',\n",
    "             'CORE_COURSE_GRADE_4_S','CORE_COURSE_NAME_1_F','CORE_COURSE_NAME_2_F','CORE_COURSE_NAME_2_S','CORE_COURSE_NAME_1_S','HIGH_SCHL_NAME'],axis=1)\n"
   ]
  },
  {
   "cell_type": "code",
   "execution_count": null,
   "metadata": {
    "colab": {
     "base_uri": "https://localhost:8080/"
    },
    "id": "U7y5Os_D6B7x",
    "outputId": "6b7e8f15-4ebe-4641-cde4-f0a8267f68fb"
   },
   "outputs": [
    {
     "data": {
      "text/plain": [
       "(3400, 28)"
      ]
     },
     "execution_count": 11,
     "metadata": {
      "tags": []
     },
     "output_type": "execute_result"
    }
   ],
   "source": [
    "X.shape"
   ]
  },
  {
   "cell_type": "code",
   "execution_count": null,
   "metadata": {
    "colab": {
     "base_uri": "https://localhost:8080/"
    },
    "id": "e04woIOk6B7y",
    "outputId": "6a0040ec-edda-4e3b-c29c-f3684446984b"
   },
   "outputs": [
    {
     "data": {
      "text/plain": [
       "Index(['STDNT_AGE', 'STDNT_GENDER', 'STDNT_BACKGROUND', 'IN_STATE_FLAG',\n",
       "       'INTERNATIONAL_STS', 'STDNT_MAJOR', 'STDNT_MINOR',\n",
       "       'STDNT_TEST_ENTRANCE1', 'STDNT_TEST_ENTRANCE2',\n",
       "       'STDNT_TEST_ENTRANCE_COMB', 'FIRST_TERM', 'CORE_COURSE_GRADE_1_F',\n",
       "       'CORE_COURSE_GRADE_2_F', 'SECOND_TERM', 'CORE_COURSE_GRADE_1_S',\n",
       "       'CORE_COURSE_GRADE_2_S', 'HOUSING_STS', 'DISTANCE_FROM_HOME',\n",
       "       'HIGH_SCHL_GPA', 'FATHER_HI_EDU_DESC', 'MOTHER_HI_EDU_DESC',\n",
       "       'DEGREE_GROUP_DESC', 'GROSS_FIN_NEED', 'COST_OF_ATTEND',\n",
       "       'EST_FAM_CONTRIBUTION', 'UNMET_NEED', 'FIRST_TERM_Hr',\n",
       "       'SECOND_TERM_Hr'],\n",
       "      dtype='object')"
      ]
     },
     "execution_count": 12,
     "metadata": {
      "tags": []
     },
     "output_type": "execute_result"
    }
   ],
   "source": [
    "X.columns"
   ]
  },
  {
   "cell_type": "code",
   "execution_count": null,
   "metadata": {
    "colab": {
     "base_uri": "https://localhost:8080/",
     "height": 162
    },
    "id": "WikRwsHC6B7y",
    "outputId": "2415379e-3bdf-4ebe-ad98-03cee9f3cdd4"
   },
   "outputs": [
    {
     "data": {
      "text/html": [
       "<div>\n",
       "<style scoped>\n",
       "    .dataframe tbody tr th:only-of-type {\n",
       "        vertical-align: middle;\n",
       "    }\n",
       "\n",
       "    .dataframe tbody tr th {\n",
       "        vertical-align: top;\n",
       "    }\n",
       "\n",
       "    .dataframe thead th {\n",
       "        text-align: right;\n",
       "    }\n",
       "</style>\n",
       "<table border=\"1\" class=\"dataframe\">\n",
       "  <thead>\n",
       "    <tr style=\"text-align: right;\">\n",
       "      <th></th>\n",
       "      <th>STDNT_AGE</th>\n",
       "      <th>STDNT_GENDER</th>\n",
       "      <th>STDNT_BACKGROUND</th>\n",
       "      <th>IN_STATE_FLAG</th>\n",
       "      <th>INTERNATIONAL_STS</th>\n",
       "      <th>STDNT_MAJOR</th>\n",
       "      <th>STDNT_MINOR</th>\n",
       "      <th>STDNT_TEST_ENTRANCE1</th>\n",
       "      <th>STDNT_TEST_ENTRANCE2</th>\n",
       "      <th>STDNT_TEST_ENTRANCE_COMB</th>\n",
       "      <th>FIRST_TERM</th>\n",
       "      <th>CORE_COURSE_GRADE_1_F</th>\n",
       "      <th>CORE_COURSE_GRADE_2_F</th>\n",
       "      <th>SECOND_TERM</th>\n",
       "      <th>CORE_COURSE_GRADE_1_S</th>\n",
       "      <th>CORE_COURSE_GRADE_2_S</th>\n",
       "      <th>HOUSING_STS</th>\n",
       "      <th>DISTANCE_FROM_HOME</th>\n",
       "      <th>HIGH_SCHL_GPA</th>\n",
       "      <th>FATHER_HI_EDU_DESC</th>\n",
       "      <th>MOTHER_HI_EDU_DESC</th>\n",
       "      <th>DEGREE_GROUP_DESC</th>\n",
       "      <th>GROSS_FIN_NEED</th>\n",
       "      <th>COST_OF_ATTEND</th>\n",
       "      <th>EST_FAM_CONTRIBUTION</th>\n",
       "      <th>UNMET_NEED</th>\n",
       "      <th>FIRST_TERM_Hr</th>\n",
       "      <th>SECOND_TERM_Hr</th>\n",
       "    </tr>\n",
       "  </thead>\n",
       "  <tbody>\n",
       "    <tr>\n",
       "      <th>0</th>\n",
       "      <td>18</td>\n",
       "      <td>F</td>\n",
       "      <td>BGD 1</td>\n",
       "      <td>Y</td>\n",
       "      <td>N</td>\n",
       "      <td>Undeclared</td>\n",
       "      <td>N</td>\n",
       "      <td>NaN</td>\n",
       "      <td>1150.0</td>\n",
       "      <td>1150.0</td>\n",
       "      <td>2007</td>\n",
       "      <td>A</td>\n",
       "      <td>A</td>\n",
       "      <td>2008</td>\n",
       "      <td>A</td>\n",
       "      <td>A</td>\n",
       "      <td>On Campus</td>\n",
       "      <td>150.0</td>\n",
       "      <td>4.00</td>\n",
       "      <td>No Information</td>\n",
       "      <td>No Information</td>\n",
       "      <td>Bachelors</td>\n",
       "      <td>0</td>\n",
       "      <td>0</td>\n",
       "      <td>0</td>\n",
       "      <td>0.0</td>\n",
       "      <td>1.0</td>\n",
       "      <td>1.0</td>\n",
       "    </tr>\n",
       "    <tr>\n",
       "      <th>1</th>\n",
       "      <td>19</td>\n",
       "      <td>F</td>\n",
       "      <td>BGD 1</td>\n",
       "      <td>N</td>\n",
       "      <td>N</td>\n",
       "      <td>Undeclared</td>\n",
       "      <td>N</td>\n",
       "      <td>26.0</td>\n",
       "      <td>NaN</td>\n",
       "      <td>1190.0</td>\n",
       "      <td>2008</td>\n",
       "      <td>A</td>\n",
       "      <td>A</td>\n",
       "      <td>2009</td>\n",
       "      <td>A</td>\n",
       "      <td>A</td>\n",
       "      <td>Off Campus</td>\n",
       "      <td>69.0</td>\n",
       "      <td>2.89</td>\n",
       "      <td>College/Beyond</td>\n",
       "      <td>College/Beyond</td>\n",
       "      <td>Bachelors</td>\n",
       "      <td>570000</td>\n",
       "      <td>1355760</td>\n",
       "      <td>785760</td>\n",
       "      <td>459300.0</td>\n",
       "      <td>1.0</td>\n",
       "      <td>1.0</td>\n",
       "    </tr>\n",
       "    <tr>\n",
       "      <th>2</th>\n",
       "      <td>18</td>\n",
       "      <td>M</td>\n",
       "      <td>BGD 1</td>\n",
       "      <td>Y</td>\n",
       "      <td>N</td>\n",
       "      <td>Mathematics</td>\n",
       "      <td>N</td>\n",
       "      <td>NaN</td>\n",
       "      <td>1020.0</td>\n",
       "      <td>1030.0</td>\n",
       "      <td>2010</td>\n",
       "      <td>A</td>\n",
       "      <td>A</td>\n",
       "      <td>2011</td>\n",
       "      <td>A</td>\n",
       "      <td>A</td>\n",
       "      <td>On Campus</td>\n",
       "      <td>150.0</td>\n",
       "      <td>3.39</td>\n",
       "      <td>High School</td>\n",
       "      <td>Other/Unknown</td>\n",
       "      <td>Bachelors</td>\n",
       "      <td>0</td>\n",
       "      <td>0</td>\n",
       "      <td>0</td>\n",
       "      <td>0.0</td>\n",
       "      <td>1.0</td>\n",
       "      <td>1.0</td>\n",
       "    </tr>\n",
       "  </tbody>\n",
       "</table>\n",
       "</div>"
      ],
      "text/plain": [
       "   STDNT_AGE STDNT_GENDER  ... FIRST_TERM_Hr SECOND_TERM_Hr\n",
       "0         18            F  ...           1.0            1.0\n",
       "1         19            F  ...           1.0            1.0\n",
       "2         18            M  ...           1.0            1.0\n",
       "\n",
       "[3 rows x 28 columns]"
      ]
     },
     "execution_count": 13,
     "metadata": {
      "tags": []
     },
     "output_type": "execute_result"
    }
   ],
   "source": [
    "X[:3]\n"
   ]
  },
  {
   "cell_type": "markdown",
   "metadata": {
    "id": "pfU6zo-C6B7z"
   },
   "source": [
    "## y contain the actual out put of the training data"
   ]
  },
  {
   "cell_type": "code",
   "execution_count": null,
   "metadata": {
    "id": "9QnYTheq6B7z"
   },
   "outputs": [],
   "source": [
    "y=data['RETURNED_2ND_YR']"
   ]
  },
  {
   "cell_type": "markdown",
   "metadata": {
    "id": "QgkHXeT26B7z"
   },
   "source": [
    "## Print the first five rows from the training data"
   ]
  },
  {
   "cell_type": "code",
   "execution_count": null,
   "metadata": {
    "id": "27EGFIom6B70"
   },
   "outputs": [],
   "source": [
    "X['UNMET_NEED']=X['UNMET_NEED'].fillna(0)"
   ]
  },
  {
   "cell_type": "code",
   "execution_count": null,
   "metadata": {
    "id": "cWBumgir6B70"
   },
   "outputs": [],
   "source": [
    "X['GROSS_FIN_NEED']=X['GROSS_FIN_NEED'].fillna(0)"
   ]
  },
  {
   "cell_type": "code",
   "execution_count": null,
   "metadata": {
    "id": "xJg2k0yc6B70"
   },
   "outputs": [],
   "source": [
    "X['STDNT_TEST_ENTRANCE_COMB']=X['STDNT_TEST_ENTRANCE_COMB'].fillna(X['STDNT_TEST_ENTRANCE_COMB'].mean())"
   ]
  },
  {
   "cell_type": "code",
   "execution_count": null,
   "metadata": {
    "id": "PXcmbY9x6B71"
   },
   "outputs": [],
   "source": [
    "X['SECOND_TERM_Hr']=X['SECOND_TERM_Hr'].fillna(0)"
   ]
  },
  {
   "cell_type": "code",
   "execution_count": null,
   "metadata": {
    "id": "SfOdSQsi6B71"
   },
   "outputs": [],
   "source": [
    "X['STDNT_TEST_ENTRANCE1']=X['STDNT_TEST_ENTRANCE1'].fillna(X['STDNT_TEST_ENTRANCE1'].mean())\n",
    "X['STDNT_TEST_ENTRANCE2']=X['STDNT_TEST_ENTRANCE2'].fillna(X['STDNT_TEST_ENTRANCE2'].mean())\n",
    "X['DISTANCE_FROM_HOME']=X['DISTANCE_FROM_HOME'].fillna(X['DISTANCE_FROM_HOME'].mean())\n",
    "X['CORE_COURSE_GRADE_2_F']=X['CORE_COURSE_GRADE_2_F'].fillna(0)\n",
    "X[['CORE_COURSE_GRADE_1_S','CORE_COURSE_GRADE_2_S']]=X[['CORE_COURSE_GRADE_1_S','CORE_COURSE_GRADE_2_S']].fillna(0)\n",
    "X['HIGH_SCHL_GPA']=X['HIGH_SCHL_GPA'].fillna(X['HIGH_SCHL_GPA'].mean())\n"
   ]
  },
  {
   "cell_type": "markdown",
   "metadata": {
    "id": "p61CHAt66B72"
   },
   "source": [
    "## Replace every nan value in the dataset into the mean of the column"
   ]
  },
  {
   "cell_type": "code",
   "execution_count": null,
   "metadata": {
    "colab": {
     "base_uri": "https://localhost:8080/"
    },
    "id": "hLaeT6hP6B72",
    "outputId": "afd19484-ae1b-42b0-a6fe-853d960cc875"
   },
   "outputs": [
    {
     "name": "stdout",
     "output_type": "stream",
     "text": [
      "(3400, 28)\n"
     ]
    },
    {
     "data": {
      "text/html": [
       "<div>\n",
       "<style scoped>\n",
       "    .dataframe tbody tr th:only-of-type {\n",
       "        vertical-align: middle;\n",
       "    }\n",
       "\n",
       "    .dataframe tbody tr th {\n",
       "        vertical-align: top;\n",
       "    }\n",
       "\n",
       "    .dataframe thead th {\n",
       "        text-align: right;\n",
       "    }\n",
       "</style>\n",
       "<table border=\"1\" class=\"dataframe\">\n",
       "  <thead>\n",
       "    <tr style=\"text-align: right;\">\n",
       "      <th></th>\n",
       "      <th>STDNT_AGE</th>\n",
       "      <th>STDNT_GENDER</th>\n",
       "      <th>STDNT_BACKGROUND</th>\n",
       "      <th>IN_STATE_FLAG</th>\n",
       "      <th>INTERNATIONAL_STS</th>\n",
       "      <th>STDNT_MAJOR</th>\n",
       "      <th>STDNT_MINOR</th>\n",
       "      <th>STDNT_TEST_ENTRANCE1</th>\n",
       "      <th>STDNT_TEST_ENTRANCE2</th>\n",
       "      <th>STDNT_TEST_ENTRANCE_COMB</th>\n",
       "      <th>FIRST_TERM</th>\n",
       "      <th>CORE_COURSE_GRADE_1_F</th>\n",
       "      <th>CORE_COURSE_GRADE_2_F</th>\n",
       "      <th>SECOND_TERM</th>\n",
       "      <th>CORE_COURSE_GRADE_1_S</th>\n",
       "      <th>CORE_COURSE_GRADE_2_S</th>\n",
       "      <th>HOUSING_STS</th>\n",
       "      <th>DISTANCE_FROM_HOME</th>\n",
       "      <th>HIGH_SCHL_GPA</th>\n",
       "      <th>FATHER_HI_EDU_DESC</th>\n",
       "      <th>MOTHER_HI_EDU_DESC</th>\n",
       "      <th>DEGREE_GROUP_DESC</th>\n",
       "      <th>GROSS_FIN_NEED</th>\n",
       "      <th>COST_OF_ATTEND</th>\n",
       "      <th>EST_FAM_CONTRIBUTION</th>\n",
       "      <th>UNMET_NEED</th>\n",
       "      <th>FIRST_TERM_Hr</th>\n",
       "      <th>SECOND_TERM_Hr</th>\n",
       "    </tr>\n",
       "  </thead>\n",
       "  <tbody>\n",
       "    <tr>\n",
       "      <th>0</th>\n",
       "      <td>18</td>\n",
       "      <td>F</td>\n",
       "      <td>BGD 1</td>\n",
       "      <td>Y</td>\n",
       "      <td>N</td>\n",
       "      <td>Undeclared</td>\n",
       "      <td>N</td>\n",
       "      <td>20.660036</td>\n",
       "      <td>1150.000000</td>\n",
       "      <td>1150.0</td>\n",
       "      <td>2007</td>\n",
       "      <td>A</td>\n",
       "      <td>A</td>\n",
       "      <td>2008</td>\n",
       "      <td>A</td>\n",
       "      <td>A</td>\n",
       "      <td>On Campus</td>\n",
       "      <td>150.0</td>\n",
       "      <td>4.00</td>\n",
       "      <td>No Information</td>\n",
       "      <td>No Information</td>\n",
       "      <td>Bachelors</td>\n",
       "      <td>0</td>\n",
       "      <td>0</td>\n",
       "      <td>0</td>\n",
       "      <td>0.0</td>\n",
       "      <td>1.0</td>\n",
       "      <td>1.0</td>\n",
       "    </tr>\n",
       "    <tr>\n",
       "      <th>1</th>\n",
       "      <td>19</td>\n",
       "      <td>F</td>\n",
       "      <td>BGD 1</td>\n",
       "      <td>N</td>\n",
       "      <td>N</td>\n",
       "      <td>Undeclared</td>\n",
       "      <td>N</td>\n",
       "      <td>26.000000</td>\n",
       "      <td>965.092295</td>\n",
       "      <td>1190.0</td>\n",
       "      <td>2008</td>\n",
       "      <td>A</td>\n",
       "      <td>A</td>\n",
       "      <td>2009</td>\n",
       "      <td>A</td>\n",
       "      <td>A</td>\n",
       "      <td>Off Campus</td>\n",
       "      <td>69.0</td>\n",
       "      <td>2.89</td>\n",
       "      <td>College/Beyond</td>\n",
       "      <td>College/Beyond</td>\n",
       "      <td>Bachelors</td>\n",
       "      <td>570000</td>\n",
       "      <td>1355760</td>\n",
       "      <td>785760</td>\n",
       "      <td>459300.0</td>\n",
       "      <td>1.0</td>\n",
       "      <td>1.0</td>\n",
       "    </tr>\n",
       "    <tr>\n",
       "      <th>2</th>\n",
       "      <td>18</td>\n",
       "      <td>M</td>\n",
       "      <td>BGD 1</td>\n",
       "      <td>Y</td>\n",
       "      <td>N</td>\n",
       "      <td>Mathematics</td>\n",
       "      <td>N</td>\n",
       "      <td>20.660036</td>\n",
       "      <td>1020.000000</td>\n",
       "      <td>1030.0</td>\n",
       "      <td>2010</td>\n",
       "      <td>A</td>\n",
       "      <td>A</td>\n",
       "      <td>2011</td>\n",
       "      <td>A</td>\n",
       "      <td>A</td>\n",
       "      <td>On Campus</td>\n",
       "      <td>150.0</td>\n",
       "      <td>3.39</td>\n",
       "      <td>High School</td>\n",
       "      <td>Other/Unknown</td>\n",
       "      <td>Bachelors</td>\n",
       "      <td>0</td>\n",
       "      <td>0</td>\n",
       "      <td>0</td>\n",
       "      <td>0.0</td>\n",
       "      <td>1.0</td>\n",
       "      <td>1.0</td>\n",
       "    </tr>\n",
       "    <tr>\n",
       "      <th>3</th>\n",
       "      <td>18</td>\n",
       "      <td>M</td>\n",
       "      <td>BGD 1</td>\n",
       "      <td>Y</td>\n",
       "      <td>N</td>\n",
       "      <td>Undeclared</td>\n",
       "      <td>N</td>\n",
       "      <td>20.660036</td>\n",
       "      <td>1210.000000</td>\n",
       "      <td>1220.0</td>\n",
       "      <td>2007</td>\n",
       "      <td>A</td>\n",
       "      <td>A</td>\n",
       "      <td>2008</td>\n",
       "      <td>A</td>\n",
       "      <td>A</td>\n",
       "      <td>On Campus</td>\n",
       "      <td>150.0</td>\n",
       "      <td>2.93</td>\n",
       "      <td>College/Beyond</td>\n",
       "      <td>College/Beyond</td>\n",
       "      <td>Bachelors</td>\n",
       "      <td>0</td>\n",
       "      <td>0</td>\n",
       "      <td>0</td>\n",
       "      <td>0.0</td>\n",
       "      <td>1.0</td>\n",
       "      <td>1.0</td>\n",
       "    </tr>\n",
       "    <tr>\n",
       "      <th>4</th>\n",
       "      <td>18</td>\n",
       "      <td>F</td>\n",
       "      <td>BGD 1</td>\n",
       "      <td>Y</td>\n",
       "      <td>N</td>\n",
       "      <td>Art</td>\n",
       "      <td>N</td>\n",
       "      <td>20.660036</td>\n",
       "      <td>1200.000000</td>\n",
       "      <td>1190.0</td>\n",
       "      <td>2008</td>\n",
       "      <td>A</td>\n",
       "      <td>A</td>\n",
       "      <td>2009</td>\n",
       "      <td>A</td>\n",
       "      <td>A</td>\n",
       "      <td>Off Campus</td>\n",
       "      <td>69.0</td>\n",
       "      <td>3.86</td>\n",
       "      <td>College/Beyond</td>\n",
       "      <td>High School</td>\n",
       "      <td>Bachelors</td>\n",
       "      <td>835920</td>\n",
       "      <td>1355760</td>\n",
       "      <td>519840</td>\n",
       "      <td>278340.0</td>\n",
       "      <td>1.0</td>\n",
       "      <td>1.0</td>\n",
       "    </tr>\n",
       "  </tbody>\n",
       "</table>\n",
       "</div>"
      ],
      "text/plain": [
       "   STDNT_AGE STDNT_GENDER  ... FIRST_TERM_Hr SECOND_TERM_Hr\n",
       "0         18            F  ...           1.0            1.0\n",
       "1         19            F  ...           1.0            1.0\n",
       "2         18            M  ...           1.0            1.0\n",
       "3         18            M  ...           1.0            1.0\n",
       "4         18            F  ...           1.0            1.0\n",
       "\n",
       "[5 rows x 28 columns]"
      ]
     },
     "execution_count": 35,
     "metadata": {
      "tags": []
     },
     "output_type": "execute_result"
    }
   ],
   "source": [
    "print(X.shape)\n",
    "X[:5]"
   ]
  },
  {
   "cell_type": "code",
   "execution_count": null,
   "metadata": {
    "colab": {
     "base_uri": "https://localhost:8080/"
    },
    "id": "8JW4Bl1_6B73",
    "outputId": "cca76f1e-d4ab-4a80-a3a4-727e391b9655"
   },
   "outputs": [
    {
     "data": {
      "text/plain": [
       "STDNT_AGE                   0\n",
       "STDNT_GENDER                0\n",
       "STDNT_BACKGROUND            0\n",
       "IN_STATE_FLAG               0\n",
       "INTERNATIONAL_STS           0\n",
       "STDNT_MAJOR                 0\n",
       "STDNT_MINOR                 0\n",
       "STDNT_TEST_ENTRANCE1        0\n",
       "STDNT_TEST_ENTRANCE2        0\n",
       "STDNT_TEST_ENTRANCE_COMB    0\n",
       "FIRST_TERM                  0\n",
       "CORE_COURSE_GRADE_1_F       0\n",
       "CORE_COURSE_GRADE_2_F       0\n",
       "SECOND_TERM                 0\n",
       "CORE_COURSE_GRADE_1_S       0\n",
       "CORE_COURSE_GRADE_2_S       0\n",
       "HOUSING_STS                 0\n",
       "DISTANCE_FROM_HOME          0\n",
       "HIGH_SCHL_GPA               0\n",
       "FATHER_HI_EDU_DESC          0\n",
       "MOTHER_HI_EDU_DESC          0\n",
       "DEGREE_GROUP_DESC           0\n",
       "GROSS_FIN_NEED              0\n",
       "COST_OF_ATTEND              0\n",
       "EST_FAM_CONTRIBUTION        0\n",
       "UNMET_NEED                  0\n",
       "FIRST_TERM_Hr               0\n",
       "SECOND_TERM_Hr              0\n",
       "dtype: int64"
      ]
     },
     "execution_count": 36,
     "metadata": {
      "tags": []
     },
     "output_type": "execute_result"
    }
   ],
   "source": [
    "X.isna().sum()"
   ]
  },
  {
   "cell_type": "markdown",
   "metadata": {
    "id": "xusGPMd56B73"
   },
   "source": [
    "## Convert the all text in the dataset into numbers with dummies "
   ]
  },
  {
   "cell_type": "code",
   "execution_count": null,
   "metadata": {
    "id": "m9aDdSlB6B73"
   },
   "outputs": [],
   "source": [
    "X=pd.get_dummies(X)"
   ]
  },
  {
   "cell_type": "markdown",
   "metadata": {
    "id": "oH3f12Z66B74"
   },
   "source": [
    "## Five rows after converting all text into numbers "
   ]
  },
  {
   "cell_type": "code",
   "execution_count": null,
   "metadata": {
    "colab": {
     "base_uri": "https://localhost:8080/"
    },
    "id": "Gg0snv0l6B74",
    "outputId": "7bf67210-cad6-4f3f-e578-20987e2d7052"
   },
   "outputs": [
    {
     "name": "stdout",
     "output_type": "stream",
     "text": [
      "(3400, 165)\n"
     ]
    },
    {
     "data": {
      "text/html": [
       "<div>\n",
       "<style scoped>\n",
       "    .dataframe tbody tr th:only-of-type {\n",
       "        vertical-align: middle;\n",
       "    }\n",
       "\n",
       "    .dataframe tbody tr th {\n",
       "        vertical-align: top;\n",
       "    }\n",
       "\n",
       "    .dataframe thead th {\n",
       "        text-align: right;\n",
       "    }\n",
       "</style>\n",
       "<table border=\"1\" class=\"dataframe\">\n",
       "  <thead>\n",
       "    <tr style=\"text-align: right;\">\n",
       "      <th></th>\n",
       "      <th>STDNT_AGE</th>\n",
       "      <th>STDNT_TEST_ENTRANCE1</th>\n",
       "      <th>STDNT_TEST_ENTRANCE2</th>\n",
       "      <th>STDNT_TEST_ENTRANCE_COMB</th>\n",
       "      <th>FIRST_TERM</th>\n",
       "      <th>SECOND_TERM</th>\n",
       "      <th>DISTANCE_FROM_HOME</th>\n",
       "      <th>HIGH_SCHL_GPA</th>\n",
       "      <th>GROSS_FIN_NEED</th>\n",
       "      <th>COST_OF_ATTEND</th>\n",
       "      <th>EST_FAM_CONTRIBUTION</th>\n",
       "      <th>UNMET_NEED</th>\n",
       "      <th>FIRST_TERM_Hr</th>\n",
       "      <th>SECOND_TERM_Hr</th>\n",
       "      <th>STDNT_GENDER_F</th>\n",
       "      <th>STDNT_GENDER_M</th>\n",
       "      <th>STDNT_BACKGROUND_BGD 1</th>\n",
       "      <th>STDNT_BACKGROUND_BGD 2</th>\n",
       "      <th>STDNT_BACKGROUND_BGD 3</th>\n",
       "      <th>STDNT_BACKGROUND_BGD 4</th>\n",
       "      <th>STDNT_BACKGROUND_BGD 5</th>\n",
       "      <th>STDNT_BACKGROUND_BGD 6</th>\n",
       "      <th>STDNT_BACKGROUND_BGD 7</th>\n",
       "      <th>STDNT_BACKGROUND_BGD 8</th>\n",
       "      <th>IN_STATE_FLAG_N</th>\n",
       "      <th>IN_STATE_FLAG_Y</th>\n",
       "      <th>INTERNATIONAL_STS_N</th>\n",
       "      <th>INTERNATIONAL_STS_Y</th>\n",
       "      <th>STDNT_MAJOR_Accounting</th>\n",
       "      <th>STDNT_MAJOR_Applied Computer Science</th>\n",
       "      <th>STDNT_MAJOR_Art</th>\n",
       "      <th>STDNT_MAJOR_Art Education</th>\n",
       "      <th>STDNT_MAJOR_Biology</th>\n",
       "      <th>STDNT_MAJOR_Biology and Secondary Ed</th>\n",
       "      <th>STDNT_MAJOR_Chemistry</th>\n",
       "      <th>STDNT_MAJOR_Chemistry and Secondary Ed</th>\n",
       "      <th>STDNT_MAJOR_Communication</th>\n",
       "      <th>STDNT_MAJOR_Computer Science - Games</th>\n",
       "      <th>STDNT_MAJOR_Computer Science - Systems</th>\n",
       "      <th>STDNT_MAJOR_Criminal Justice</th>\n",
       "      <th>...</th>\n",
       "      <th>CORE_COURSE_GRADE_1_F_NOT REP</th>\n",
       "      <th>CORE_COURSE_GRADE_2_F_0</th>\n",
       "      <th>CORE_COURSE_GRADE_2_F_A</th>\n",
       "      <th>CORE_COURSE_GRADE_2_F_B</th>\n",
       "      <th>CORE_COURSE_GRADE_2_F_C</th>\n",
       "      <th>CORE_COURSE_GRADE_2_F_D</th>\n",
       "      <th>CORE_COURSE_GRADE_2_F_F</th>\n",
       "      <th>CORE_COURSE_GRADE_2_F_INCOMPL</th>\n",
       "      <th>CORE_COURSE_GRADE_2_F_NOT REP</th>\n",
       "      <th>CORE_COURSE_GRADE_1_S_0</th>\n",
       "      <th>CORE_COURSE_GRADE_1_S_A</th>\n",
       "      <th>CORE_COURSE_GRADE_1_S_B</th>\n",
       "      <th>CORE_COURSE_GRADE_1_S_C</th>\n",
       "      <th>CORE_COURSE_GRADE_1_S_D</th>\n",
       "      <th>CORE_COURSE_GRADE_1_S_F</th>\n",
       "      <th>CORE_COURSE_GRADE_1_S_INCOMPL</th>\n",
       "      <th>CORE_COURSE_GRADE_1_S_NOT REP</th>\n",
       "      <th>CORE_COURSE_GRADE_1_S_Unknown</th>\n",
       "      <th>CORE_COURSE_GRADE_2_S_0</th>\n",
       "      <th>CORE_COURSE_GRADE_2_S_A</th>\n",
       "      <th>CORE_COURSE_GRADE_2_S_B</th>\n",
       "      <th>CORE_COURSE_GRADE_2_S_C</th>\n",
       "      <th>CORE_COURSE_GRADE_2_S_D</th>\n",
       "      <th>CORE_COURSE_GRADE_2_S_F</th>\n",
       "      <th>CORE_COURSE_GRADE_2_S_INCOMPL</th>\n",
       "      <th>HOUSING_STS_Off Campus</th>\n",
       "      <th>HOUSING_STS_On Campus</th>\n",
       "      <th>FATHER_HI_EDU_DESC_College/Beyond</th>\n",
       "      <th>FATHER_HI_EDU_DESC_High School</th>\n",
       "      <th>FATHER_HI_EDU_DESC_Middle School/Junior High</th>\n",
       "      <th>FATHER_HI_EDU_DESC_No Information</th>\n",
       "      <th>FATHER_HI_EDU_DESC_Other/Unknown</th>\n",
       "      <th>MOTHER_HI_EDU_DESC_College/Beyond</th>\n",
       "      <th>MOTHER_HI_EDU_DESC_High School</th>\n",
       "      <th>MOTHER_HI_EDU_DESC_Middle School/Junior High</th>\n",
       "      <th>MOTHER_HI_EDU_DESC_No Information</th>\n",
       "      <th>MOTHER_HI_EDU_DESC_Other/Unknown</th>\n",
       "      <th>DEGREE_GROUP_DESC_Associate</th>\n",
       "      <th>DEGREE_GROUP_DESC_Bachelors</th>\n",
       "      <th>DEGREE_GROUP_DESC_Career Associate</th>\n",
       "    </tr>\n",
       "  </thead>\n",
       "  <tbody>\n",
       "    <tr>\n",
       "      <th>0</th>\n",
       "      <td>18</td>\n",
       "      <td>20.660036</td>\n",
       "      <td>1150.000000</td>\n",
       "      <td>1150.0</td>\n",
       "      <td>2007</td>\n",
       "      <td>2008</td>\n",
       "      <td>150.0</td>\n",
       "      <td>4.00</td>\n",
       "      <td>0</td>\n",
       "      <td>0</td>\n",
       "      <td>0</td>\n",
       "      <td>0.0</td>\n",
       "      <td>1.0</td>\n",
       "      <td>1.0</td>\n",
       "      <td>1</td>\n",
       "      <td>0</td>\n",
       "      <td>1</td>\n",
       "      <td>0</td>\n",
       "      <td>0</td>\n",
       "      <td>0</td>\n",
       "      <td>0</td>\n",
       "      <td>0</td>\n",
       "      <td>0</td>\n",
       "      <td>0</td>\n",
       "      <td>0</td>\n",
       "      <td>1</td>\n",
       "      <td>1</td>\n",
       "      <td>0</td>\n",
       "      <td>0</td>\n",
       "      <td>0</td>\n",
       "      <td>0</td>\n",
       "      <td>0</td>\n",
       "      <td>0</td>\n",
       "      <td>0</td>\n",
       "      <td>0</td>\n",
       "      <td>0</td>\n",
       "      <td>0</td>\n",
       "      <td>0</td>\n",
       "      <td>0</td>\n",
       "      <td>0</td>\n",
       "      <td>...</td>\n",
       "      <td>0</td>\n",
       "      <td>0</td>\n",
       "      <td>1</td>\n",
       "      <td>0</td>\n",
       "      <td>0</td>\n",
       "      <td>0</td>\n",
       "      <td>0</td>\n",
       "      <td>0</td>\n",
       "      <td>0</td>\n",
       "      <td>0</td>\n",
       "      <td>1</td>\n",
       "      <td>0</td>\n",
       "      <td>0</td>\n",
       "      <td>0</td>\n",
       "      <td>0</td>\n",
       "      <td>0</td>\n",
       "      <td>0</td>\n",
       "      <td>0</td>\n",
       "      <td>0</td>\n",
       "      <td>1</td>\n",
       "      <td>0</td>\n",
       "      <td>0</td>\n",
       "      <td>0</td>\n",
       "      <td>0</td>\n",
       "      <td>0</td>\n",
       "      <td>0</td>\n",
       "      <td>1</td>\n",
       "      <td>0</td>\n",
       "      <td>0</td>\n",
       "      <td>0</td>\n",
       "      <td>1</td>\n",
       "      <td>0</td>\n",
       "      <td>0</td>\n",
       "      <td>0</td>\n",
       "      <td>0</td>\n",
       "      <td>1</td>\n",
       "      <td>0</td>\n",
       "      <td>0</td>\n",
       "      <td>1</td>\n",
       "      <td>0</td>\n",
       "    </tr>\n",
       "    <tr>\n",
       "      <th>1</th>\n",
       "      <td>19</td>\n",
       "      <td>26.000000</td>\n",
       "      <td>965.092295</td>\n",
       "      <td>1190.0</td>\n",
       "      <td>2008</td>\n",
       "      <td>2009</td>\n",
       "      <td>69.0</td>\n",
       "      <td>2.89</td>\n",
       "      <td>570000</td>\n",
       "      <td>1355760</td>\n",
       "      <td>785760</td>\n",
       "      <td>459300.0</td>\n",
       "      <td>1.0</td>\n",
       "      <td>1.0</td>\n",
       "      <td>1</td>\n",
       "      <td>0</td>\n",
       "      <td>1</td>\n",
       "      <td>0</td>\n",
       "      <td>0</td>\n",
       "      <td>0</td>\n",
       "      <td>0</td>\n",
       "      <td>0</td>\n",
       "      <td>0</td>\n",
       "      <td>0</td>\n",
       "      <td>1</td>\n",
       "      <td>0</td>\n",
       "      <td>1</td>\n",
       "      <td>0</td>\n",
       "      <td>0</td>\n",
       "      <td>0</td>\n",
       "      <td>0</td>\n",
       "      <td>0</td>\n",
       "      <td>0</td>\n",
       "      <td>0</td>\n",
       "      <td>0</td>\n",
       "      <td>0</td>\n",
       "      <td>0</td>\n",
       "      <td>0</td>\n",
       "      <td>0</td>\n",
       "      <td>0</td>\n",
       "      <td>...</td>\n",
       "      <td>0</td>\n",
       "      <td>0</td>\n",
       "      <td>1</td>\n",
       "      <td>0</td>\n",
       "      <td>0</td>\n",
       "      <td>0</td>\n",
       "      <td>0</td>\n",
       "      <td>0</td>\n",
       "      <td>0</td>\n",
       "      <td>0</td>\n",
       "      <td>1</td>\n",
       "      <td>0</td>\n",
       "      <td>0</td>\n",
       "      <td>0</td>\n",
       "      <td>0</td>\n",
       "      <td>0</td>\n",
       "      <td>0</td>\n",
       "      <td>0</td>\n",
       "      <td>0</td>\n",
       "      <td>1</td>\n",
       "      <td>0</td>\n",
       "      <td>0</td>\n",
       "      <td>0</td>\n",
       "      <td>0</td>\n",
       "      <td>0</td>\n",
       "      <td>1</td>\n",
       "      <td>0</td>\n",
       "      <td>1</td>\n",
       "      <td>0</td>\n",
       "      <td>0</td>\n",
       "      <td>0</td>\n",
       "      <td>0</td>\n",
       "      <td>1</td>\n",
       "      <td>0</td>\n",
       "      <td>0</td>\n",
       "      <td>0</td>\n",
       "      <td>0</td>\n",
       "      <td>0</td>\n",
       "      <td>1</td>\n",
       "      <td>0</td>\n",
       "    </tr>\n",
       "    <tr>\n",
       "      <th>2</th>\n",
       "      <td>18</td>\n",
       "      <td>20.660036</td>\n",
       "      <td>1020.000000</td>\n",
       "      <td>1030.0</td>\n",
       "      <td>2010</td>\n",
       "      <td>2011</td>\n",
       "      <td>150.0</td>\n",
       "      <td>3.39</td>\n",
       "      <td>0</td>\n",
       "      <td>0</td>\n",
       "      <td>0</td>\n",
       "      <td>0.0</td>\n",
       "      <td>1.0</td>\n",
       "      <td>1.0</td>\n",
       "      <td>0</td>\n",
       "      <td>1</td>\n",
       "      <td>1</td>\n",
       "      <td>0</td>\n",
       "      <td>0</td>\n",
       "      <td>0</td>\n",
       "      <td>0</td>\n",
       "      <td>0</td>\n",
       "      <td>0</td>\n",
       "      <td>0</td>\n",
       "      <td>0</td>\n",
       "      <td>1</td>\n",
       "      <td>1</td>\n",
       "      <td>0</td>\n",
       "      <td>0</td>\n",
       "      <td>0</td>\n",
       "      <td>0</td>\n",
       "      <td>0</td>\n",
       "      <td>0</td>\n",
       "      <td>0</td>\n",
       "      <td>0</td>\n",
       "      <td>0</td>\n",
       "      <td>0</td>\n",
       "      <td>0</td>\n",
       "      <td>0</td>\n",
       "      <td>0</td>\n",
       "      <td>...</td>\n",
       "      <td>0</td>\n",
       "      <td>0</td>\n",
       "      <td>1</td>\n",
       "      <td>0</td>\n",
       "      <td>0</td>\n",
       "      <td>0</td>\n",
       "      <td>0</td>\n",
       "      <td>0</td>\n",
       "      <td>0</td>\n",
       "      <td>0</td>\n",
       "      <td>1</td>\n",
       "      <td>0</td>\n",
       "      <td>0</td>\n",
       "      <td>0</td>\n",
       "      <td>0</td>\n",
       "      <td>0</td>\n",
       "      <td>0</td>\n",
       "      <td>0</td>\n",
       "      <td>0</td>\n",
       "      <td>1</td>\n",
       "      <td>0</td>\n",
       "      <td>0</td>\n",
       "      <td>0</td>\n",
       "      <td>0</td>\n",
       "      <td>0</td>\n",
       "      <td>0</td>\n",
       "      <td>1</td>\n",
       "      <td>0</td>\n",
       "      <td>1</td>\n",
       "      <td>0</td>\n",
       "      <td>0</td>\n",
       "      <td>0</td>\n",
       "      <td>0</td>\n",
       "      <td>0</td>\n",
       "      <td>0</td>\n",
       "      <td>0</td>\n",
       "      <td>1</td>\n",
       "      <td>0</td>\n",
       "      <td>1</td>\n",
       "      <td>0</td>\n",
       "    </tr>\n",
       "    <tr>\n",
       "      <th>3</th>\n",
       "      <td>18</td>\n",
       "      <td>20.660036</td>\n",
       "      <td>1210.000000</td>\n",
       "      <td>1220.0</td>\n",
       "      <td>2007</td>\n",
       "      <td>2008</td>\n",
       "      <td>150.0</td>\n",
       "      <td>2.93</td>\n",
       "      <td>0</td>\n",
       "      <td>0</td>\n",
       "      <td>0</td>\n",
       "      <td>0.0</td>\n",
       "      <td>1.0</td>\n",
       "      <td>1.0</td>\n",
       "      <td>0</td>\n",
       "      <td>1</td>\n",
       "      <td>1</td>\n",
       "      <td>0</td>\n",
       "      <td>0</td>\n",
       "      <td>0</td>\n",
       "      <td>0</td>\n",
       "      <td>0</td>\n",
       "      <td>0</td>\n",
       "      <td>0</td>\n",
       "      <td>0</td>\n",
       "      <td>1</td>\n",
       "      <td>1</td>\n",
       "      <td>0</td>\n",
       "      <td>0</td>\n",
       "      <td>0</td>\n",
       "      <td>0</td>\n",
       "      <td>0</td>\n",
       "      <td>0</td>\n",
       "      <td>0</td>\n",
       "      <td>0</td>\n",
       "      <td>0</td>\n",
       "      <td>0</td>\n",
       "      <td>0</td>\n",
       "      <td>0</td>\n",
       "      <td>0</td>\n",
       "      <td>...</td>\n",
       "      <td>0</td>\n",
       "      <td>0</td>\n",
       "      <td>1</td>\n",
       "      <td>0</td>\n",
       "      <td>0</td>\n",
       "      <td>0</td>\n",
       "      <td>0</td>\n",
       "      <td>0</td>\n",
       "      <td>0</td>\n",
       "      <td>0</td>\n",
       "      <td>1</td>\n",
       "      <td>0</td>\n",
       "      <td>0</td>\n",
       "      <td>0</td>\n",
       "      <td>0</td>\n",
       "      <td>0</td>\n",
       "      <td>0</td>\n",
       "      <td>0</td>\n",
       "      <td>0</td>\n",
       "      <td>1</td>\n",
       "      <td>0</td>\n",
       "      <td>0</td>\n",
       "      <td>0</td>\n",
       "      <td>0</td>\n",
       "      <td>0</td>\n",
       "      <td>0</td>\n",
       "      <td>1</td>\n",
       "      <td>1</td>\n",
       "      <td>0</td>\n",
       "      <td>0</td>\n",
       "      <td>0</td>\n",
       "      <td>0</td>\n",
       "      <td>1</td>\n",
       "      <td>0</td>\n",
       "      <td>0</td>\n",
       "      <td>0</td>\n",
       "      <td>0</td>\n",
       "      <td>0</td>\n",
       "      <td>1</td>\n",
       "      <td>0</td>\n",
       "    </tr>\n",
       "    <tr>\n",
       "      <th>4</th>\n",
       "      <td>18</td>\n",
       "      <td>20.660036</td>\n",
       "      <td>1200.000000</td>\n",
       "      <td>1190.0</td>\n",
       "      <td>2008</td>\n",
       "      <td>2009</td>\n",
       "      <td>69.0</td>\n",
       "      <td>3.86</td>\n",
       "      <td>835920</td>\n",
       "      <td>1355760</td>\n",
       "      <td>519840</td>\n",
       "      <td>278340.0</td>\n",
       "      <td>1.0</td>\n",
       "      <td>1.0</td>\n",
       "      <td>1</td>\n",
       "      <td>0</td>\n",
       "      <td>1</td>\n",
       "      <td>0</td>\n",
       "      <td>0</td>\n",
       "      <td>0</td>\n",
       "      <td>0</td>\n",
       "      <td>0</td>\n",
       "      <td>0</td>\n",
       "      <td>0</td>\n",
       "      <td>0</td>\n",
       "      <td>1</td>\n",
       "      <td>1</td>\n",
       "      <td>0</td>\n",
       "      <td>0</td>\n",
       "      <td>0</td>\n",
       "      <td>1</td>\n",
       "      <td>0</td>\n",
       "      <td>0</td>\n",
       "      <td>0</td>\n",
       "      <td>0</td>\n",
       "      <td>0</td>\n",
       "      <td>0</td>\n",
       "      <td>0</td>\n",
       "      <td>0</td>\n",
       "      <td>0</td>\n",
       "      <td>...</td>\n",
       "      <td>0</td>\n",
       "      <td>0</td>\n",
       "      <td>1</td>\n",
       "      <td>0</td>\n",
       "      <td>0</td>\n",
       "      <td>0</td>\n",
       "      <td>0</td>\n",
       "      <td>0</td>\n",
       "      <td>0</td>\n",
       "      <td>0</td>\n",
       "      <td>1</td>\n",
       "      <td>0</td>\n",
       "      <td>0</td>\n",
       "      <td>0</td>\n",
       "      <td>0</td>\n",
       "      <td>0</td>\n",
       "      <td>0</td>\n",
       "      <td>0</td>\n",
       "      <td>0</td>\n",
       "      <td>1</td>\n",
       "      <td>0</td>\n",
       "      <td>0</td>\n",
       "      <td>0</td>\n",
       "      <td>0</td>\n",
       "      <td>0</td>\n",
       "      <td>1</td>\n",
       "      <td>0</td>\n",
       "      <td>1</td>\n",
       "      <td>0</td>\n",
       "      <td>0</td>\n",
       "      <td>0</td>\n",
       "      <td>0</td>\n",
       "      <td>0</td>\n",
       "      <td>1</td>\n",
       "      <td>0</td>\n",
       "      <td>0</td>\n",
       "      <td>0</td>\n",
       "      <td>0</td>\n",
       "      <td>1</td>\n",
       "      <td>0</td>\n",
       "    </tr>\n",
       "  </tbody>\n",
       "</table>\n",
       "<p>5 rows × 165 columns</p>\n",
       "</div>"
      ],
      "text/plain": [
       "   STDNT_AGE  ...  DEGREE_GROUP_DESC_Career Associate\n",
       "0         18  ...                                   0\n",
       "1         19  ...                                   0\n",
       "2         18  ...                                   0\n",
       "3         18  ...                                   0\n",
       "4         18  ...                                   0\n",
       "\n",
       "[5 rows x 165 columns]"
      ]
     },
     "execution_count": 38,
     "metadata": {
      "tags": []
     },
     "output_type": "execute_result"
    }
   ],
   "source": [
    "print(X.shape)\n",
    "X[:5]"
   ]
  },
  {
   "cell_type": "markdown",
   "metadata": {
    "id": "bJj3upIO6B74"
   },
   "source": [
    "## feature importance to y  process "
   ]
  },
  {
   "cell_type": "code",
   "execution_count": null,
   "metadata": {
    "colab": {
     "base_uri": "https://localhost:8080/",
     "height": 265
    },
    "id": "A4vrHxua6B75",
    "outputId": "34330ae5-c8c9-4c5b-be48-c9ebf2c0c55f"
   },
   "outputs": [
    {
     "data": {
      "image/png": "[encoded data removed]",
      "text/plain": [
       "<Figure size 432x288 with 1 Axes>"
      ]
     },
     "metadata": {
      "needs_background": "light",
      "tags": []
     },
     "output_type": "display_data"
    }
   ],
   "source": [
    "#import libraries\n",
    "from sklearn.ensemble import ExtraTreesClassifier\n",
    "import matplotlib.pyplot as plt\n",
    "#Fit the model\n",
    "model = ExtraTreesClassifier()\n",
    "model.fit(X,y)\n",
    "#plot graph of feature importances\n",
    "feat_importances = pd.Series(model.feature_importances_, index=X.columns)\n",
    "feat_importances.nlargest(15).plot(kind='barh')\n",
    "plt.show()"
   ]
  },
  {
   "cell_type": "code",
   "execution_count": null,
   "metadata": {
    "id": "sGeK41PF6B75"
   },
   "outputs": [],
   "source": []
  },
  {
   "cell_type": "code",
   "execution_count": null,
   "metadata": {
    "id": "tN1AL9cN6B76"
   },
   "outputs": [],
   "source": []
  },
  {
   "cell_type": "code",
   "execution_count": null,
   "metadata": {
    "colab": {
     "base_uri": "https://localhost:8080/"
    },
    "id": "4zym2DAf6B76",
    "outputId": "447bde8f-2495-484d-fe19-5201155397fd"
   },
   "outputs": [
    {
     "name": "stdout",
     "output_type": "stream",
     "text": [
      "(3400, 165)\n"
     ]
    }
   ],
   "source": [
    "print(X.shape)"
   ]
  },
  {
   "cell_type": "markdown",
   "metadata": {
    "id": "KbZcPmGy6B76"
   },
   "source": [
    "##  scaling the training data"
   ]
  },
  {
   "cell_type": "code",
   "execution_count": null,
   "metadata": {
    "id": "NLbN-Uqu6B77"
   },
   "outputs": [],
   "source": [
    "from sklearn.preprocessing import StandardScaler\n",
    "import numpy as np\n",
    "\n",
    "scaler = StandardScaler()\n",
    "scaler.fit(X)\n",
    "\n",
    "X = scaler.transform(X)\n",
    "\n"
   ]
  },
  {
   "cell_type": "markdown",
   "metadata": {
    "id": "uc1dxWx56B78"
   },
   "source": [
    "## split the data into training, validation and  testing "
   ]
  },
  {
   "cell_type": "code",
   "execution_count": null,
   "metadata": {
    "colab": {
     "base_uri": "https://localhost:8080/"
    },
    "id": "pO_EwuVN6B78",
    "outputId": "08057079-47e3-4be9-86ad-775702c0d8d0"
   },
   "outputs": [
    {
     "name": "stdout",
     "output_type": "stream",
     "text": [
      "x train shape is :  (3060, 165)\n",
      "x test shape is :  (340, 165)\n",
      "y train shape is :  (3060,)\n",
      "y test shape is :  (340,)\n"
     ]
    }
   ],
   "source": [
    "from sklearn.model_selection import train_test_split\n",
    "X_train, X_test, y_train, y_test = train_test_split(X, y, test_size = 0.1, random_state = 44,shuffle=True )\n",
    "\n",
    "print(\"x train shape is : \",X_train.shape)\n",
    "print(\"x test shape is : \",X_test.shape)\n",
    "print(\"y train shape is : \",y_train.shape)\n",
    "print(\"y test shape is : \",y_test.shape) \n"
   ]
  },
  {
   "cell_type": "code",
   "execution_count": null,
   "metadata": {
    "colab": {
     "base_uri": "https://localhost:8080/"
    },
    "id": "Q1tzYez36B79",
    "outputId": "7e8daef2-a4e6-4880-9a07-40d3b4a66364"
   },
   "outputs": [
    {
     "name": "stdout",
     "output_type": "stream",
     "text": [
      "tuned hpyerparameters :(best parameters)  {'C': 0.005994842503189409, 'penalty': 'l2'}\n",
      "accuracy : 0.8326797385620914\n"
     ]
    }
   ],
   "source": [
    "from sklearn.model_selection import GridSearchCV\n",
    "from sklearn.linear_model import LogisticRegression\n",
    "grid={\"C\":np.logspace(-3,4,10), \"penalty\":[\"l1\",\"l2\"]}# l1 lasso l2 ridge\n",
    "logreg=LogisticRegression(max_iter=2000)\n",
    "logreg_cv=GridSearchCV(logreg,grid,cv=10,n_jobs=-1)\n",
    "logreg_cv.fit(X_train,y_train)\n",
    "\n",
    "print(\"tuned hpyerparameters :(best parameters) \",logreg_cv.best_params_)\n",
    "print(\"accuracy :\",logreg_cv.best_score_)"
   ]
  },
  {
   "cell_type": "code",
   "execution_count": null,
   "metadata": {
    "id": "7eb19FjK6B7-"
   },
   "outputs": [],
   "source": [
    "logreg2=LogisticRegression(C=0.005994842503189409,penalty=\"l2\")\n",
    "logreg2.fit(X_train,y_train)\n",
    "y_pred=logreg2.predict(X_test)"
   ]
  },
  {
   "cell_type": "code",
   "execution_count": null,
   "metadata": {
    "colab": {
     "base_uri": "https://localhost:8080/"
    },
    "id": "Or6its_y6B7-",
    "outputId": "075d2615-b549-4909-b357-30395fae26b5"
   },
   "outputs": [
    {
     "name": "stdout",
     "output_type": "stream",
     "text": [
      "best accuracy =  0.8294117647058824\n",
      "[[ 20  47]\n",
      " [ 11 262]]\n"
     ]
    }
   ],
   "source": [
    "from sklearn.metrics import classification_report, confusion_matrix\n",
    "from sklearn.metrics import accuracy_score\n",
    "\n",
    "accuracy_score_c_test = accuracy_score(y_test,y_pred)\n",
    "\n",
    "\n",
    "print('best accuracy = ',accuracy_score_c_test)\n",
    "print(confusion_matrix(y_test, y_pred))"
   ]
  },
  {
   "cell_type": "code",
   "execution_count": null,
   "metadata": {
    "id": "5IZ9-cisFb_6"
   },
   "outputs": [],
   "source": []
  },
  {
   "cell_type": "code",
   "execution_count": null,
   "metadata": {
    "colab": {
     "base_uri": "https://localhost:8080/"
    },
    "id": "x2_ZL9PCFcJQ",
    "outputId": "0ad4f8b5-c8a4-432d-d617-c0a3075b3053"
   },
   "outputs": [
    {
     "name": "stdout",
     "output_type": "stream",
     "text": [
      "best accuracy =  0.8323529411764706\n",
      "[[ 17  50]\n",
      " [  7 266]]\n"
     ]
    }
   ],
   "source": [
    "from sklearn.svm import SVC\n",
    "from sklearn.pipeline import make_pipeline\n",
    "\n",
    "clf = make_pipeline(StandardScaler(), SVC(gamma='auto'))\n",
    "clf.fit(X_train, y_train)\n",
    "y_pred=clf.predict(X_test)\n",
    "accuracy_score_c_test = accuracy_score(y_test,y_pred)\n",
    "\n",
    "print('best accuracy = ',accuracy_score_c_test)\n",
    "print(confusion_matrix(y_test, y_pred))"
   ]
  },
  {
   "cell_type": "markdown",
   "metadata": {
    "id": "2Af-2Fbg6B8A"
   },
   "source": [
    "## implement Neural Network "
   ]
  },
  {
   "cell_type": "code",
   "execution_count": null,
   "metadata": {
    "colab": {
     "base_uri": "https://localhost:8080/"
    },
    "id": "cCvVUbxMGKLY",
    "outputId": "570dcdcd-08ad-475a-a902-1abad77a5b49"
   },
   "outputs": [
    {
     "name": "stdout",
     "output_type": "stream",
     "text": [
      "best accuracy =  0.7970588235294118\n",
      "[[ 25  42]\n",
      " [ 27 246]]\n"
     ]
    }
   ],
   "source": [
    "from sklearn.neural_network import MLPClassifier\n",
    "clf = MLPClassifier(random_state=1, max_iter=300).fit(X_train, y_train)\n",
    "y_pred=clf.predict(X_test)\n",
    "\n",
    "accuracy_score_c_test = accuracy_score(y_test,y_pred)\n",
    "\n",
    "print('best accuracy = ',accuracy_score_c_test)\n",
    "print(confusion_matrix(y_test, y_pred))"
   ]
  }
 ],
 "metadata": {
  "accelerator": "GPU",
  "colab": {
   "collapsed_sections": [
    "QgkHXeT26B7z",
    "p61CHAt66B72",
    "xusGPMd56B73",
    "oH3f12Z66B74"
   ],
   "name": "students-attrition-modelling.ipynb",
   "provenance": [],
   "toc_visible": true
  },
  "kernelspec": {
   "display_name": "Python 3",
   "language": "python",
   "name": "python3"
  },
  "language_info": {
   "codemirror_mode": {
    "name": "ipython",
    "version": 3
   },
   "file_extension": ".py",
   "mimetype": "text/x-python",
   "name": "python",
   "nbconvert_exporter": "python",
   "pygments_lexer": "ipython3",
   "version": "3.8.8"
  }
 },
 "nbformat": 4,
 "nbformat_minor": 1
}
